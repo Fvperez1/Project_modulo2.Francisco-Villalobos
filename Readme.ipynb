{
 "cells": [
  {
   "cell_type": "code",
   "execution_count": null,
   "id": "ee4ecd61",
   "metadata": {},
   "outputs": [],
   "source": [
    "# GOAL⚽⚽\n",
    "\n",
    "El objetivo es que el usuario pueda navegar por los dashboards hasta sacar sus propias conclusiones sobre la foto actual de los salarios en las profesiones del análisis de datos.\n",
    "\n",
    "\n",
    "# Data/Architecture 💻💻\n",
    "\n",
    "\n",
    "1. Descarga del CSV de la plataforma Kaggle: https://www.https://www.kaggle.com/datasets/heesoo37/120-years-of-olympic-history-athletes-and-results\n",
    "2. Limpieza y manipulación de base de los datos en Jupyter Notebook, con pandas. Hay un total de 270000 entradas de datos a partir de datos proporcionados por distintos continentes,paises y años\n",
    "3. Descarga del CSV transformado.\n",
    "4. Importación del CSV en Power BI desktop.\n",
    "5. Diseño del modelo.\n",
    "\n",
    "\n",
    "# Dashboard funtionalities 🖊️🖊️\n",
    "La primera pestaña muestra un indice con todo lo que se encuentra en nuestro informe.\n",
    "1-Hoja del informe, podemos encontrar la evolución de los paises participantes y de las mujeres que han ganado medalla a lo largo de los años\n",
    "2-Hoja del informe, encontramos todos los datos de aquellos atletas que hayan conseguido medallas, haciendo principal enfasis, en ver si tiene repercusión en el medallero organizar las olimpiadas\n",
    "3-Hoja del informe, edad media y alturas de los participantes\n",
    "# Insights 📉📉\n",
    "Primera pestaña:\n",
    "1.Evolucón de los paises participantes en las olimpiadas\n",
    "2.Evolución de las mujeres vencedoras de medallas en las olimpiadas\n",
    "Segunda pestaña:\n",
    "1. Pais con mayor número de medallas olimpicas\n",
    "2. Influencia de organización de las olimpiadas en el medallero\n",
    "3. Influencia del programa 92 de España para conseguir más medallas en Barcelona 92\n",
    "Tercera pestaña:\n",
    "1. Edad media de los atletas premiados\n",
    "2. Altura media de los atletas premiados\n",
    "Cuarta pestaña:\n",
    "1. Comparativa entre los continenetes \n",
    "\n",
    "\n",
    "💻 Technology stack\n",
    "\n",
    "Python, Sqlalchemy Pandas Requests Math Jupyter Noteboo y Power BI\n",
    "\n",
    "💌 Contact info\n",
    "\n",
    "Mail: fco.villalobos.perez@gmail.com Obtener ayuda, involucrarse, contratarme por favor.\n",
    "\n"
   ]
  }
 ],
 "metadata": {
  "kernelspec": {
   "display_name": "Python [conda env:jp_env] *",
   "language": "python",
   "name": "conda-env-jp_env-py"
  },
  "language_info": {
   "codemirror_mode": {
    "name": "ipython",
    "version": 3
   },
   "file_extension": ".py",
   "mimetype": "text/x-python",
   "name": "python",
   "nbconvert_exporter": "python",
   "pygments_lexer": "ipython3",
   "version": "3.10.4"
  }
 },
 "nbformat": 4,
 "nbformat_minor": 5
}

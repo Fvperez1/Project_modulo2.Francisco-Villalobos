# GOAL⚽⚽

El objetivo es que el usuario pueda navegar por los dashboards hasta sacar sus propias conclusiones sobre la foto actual de los salarios en las profesiones del análisis de datos.


# Data/Architecture 💻💻


1. Descarga del CSV de la plataforma Kaggle: https://www.https://www.kaggle.com/datasets/heesoo37/120-years-of-olympic-history-athletes-and-results
2. Limpieza y manipulación de base de los datos en Jupyter Notebook, con pandas. Hay un total de 270000 entradas de datos a partir de datos proporcionados por distintos continentes,paises y años
3. Descarga del CSV transformado.
4. Importación del CSV en Power BI desktop.
5. Diseño del modelo.


# Dashboard funtionalities 🖊️🖊️
La primera pestaña muestra un indice con todo lo que se encuentra en nuestro informe.
1-Hoja del informe, podemos encontrar la evolución de los paises participantes y de las mujeres que han ganado medalla a lo largo de los años
2-Hoja del informe, encontramos todos los datos de aquellos atletas que hayan conseguido medallas, haciendo principal enfasis, en ver si tiene repercusión en el medallero organizar las olimpiadas
3-Hoja del informe, edad media y alturas de los participantes
# Insights 📉📉
Primera pestaña:
1.Evolucón de los paises participantes en las olimpiadas
2.Evolución de las mujeres vencedoras de medallas en las olimpiadas
Segunda pestaña:
1. Pais con mayor número de medallas olimpicas
2. Influencia de organización de las olimpiadas en el medallero
3. Influencia del programa 92 de España para conseguir más medallas en Barcelona 92
Tercera pestaña:
1. Edad media de los atletas premiados
2. Altura media de los atletas premiados
Cuarta pestaña:
1. Comparativa entre los continenetes 


💻 Technology stack

Python, Sqlalchemy Pandas Requests Math Jupyter Noteboo y Power BI

💌 Contact info

Mail: fco.villalobos.perez@gmail.com Obtener ayuda, involucrarse, contratarme por favor.
